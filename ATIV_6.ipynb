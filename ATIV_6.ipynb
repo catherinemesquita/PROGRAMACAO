{
  "nbformat": 4,
  "nbformat_minor": 0,
  "metadata": {
    "colab": {
      "provenance": [],
      "collapsed_sections": [],
      "authorship_tag": "ABX9TyM971yUKv3C60CBez0k/Tkd",
      "include_colab_link": true
    },
    "kernelspec": {
      "name": "python3",
      "display_name": "Python 3"
    },
    "language_info": {
      "name": "python"
    }
  },
  "cells": [
    {
      "cell_type": "markdown",
      "metadata": {
        "id": "view-in-github",
        "colab_type": "text"
      },
      "source": [
        "<a href=\"https://colab.research.google.com/github/catherinemesquita/PROGRAMACAO/blob/main/ATIV_6.ipynb\" target=\"_parent\"><img src=\"https://colab.research.google.com/assets/colab-badge.svg\" alt=\"Open In Colab\"/></a>"
      ]
    },
    {
      "cell_type": "code",
      "execution_count": 50,
      "metadata": {
        "colab": {
          "base_uri": "https://localhost:8080/"
        },
        "id": "1XoFw7Ayp_Mo",
        "outputId": "0d6d795f-b5ba-4b87-8408-b84eb1d6bbe1"
      },
      "outputs": [
        {
          "output_type": "stream",
          "name": "stdout",
          "text": [
            "Cirurgia estereotáxica para ratos\n",
            "Verificar se o animal está devidamente anestesiado.\n",
            "O crânio está completamente limpo? Digite s ou n:s\n",
            "Aplicar poliacrilato no perímetro externo para hemostasia.\n",
            "Escolha três pontos para fixar os parafusos.\n",
            "Dê três voltas em cada parafuso\n",
            "0\n",
            "1\n",
            "2\n",
            "3\n"
          ]
        }
      ],
      "source": [
        "inicio= 'Cirurgia estereotáxica para ratos'\n",
        "print(inicio)\n",
        "\n",
        "anestesia='Verificar se o animal está devidamente anestesiado.'\n",
        "print(anestesia)\n",
        "\n",
        "\n",
        "# anestesias= input('O animal está completamnete sedado? Digite s ou n:')\n",
        "# if anestesias == 's' and anestesias != 'n':\n",
        "#     print('Continuar')\n",
        "# if anestesias == 'n' and anestesias != 's' :\n",
        "#      print('Aprofundar anestesia')\n",
        "\n",
        "\n",
        "# print('Posicionar animal no estereotáxico')\n",
        "# print('Encaixar as barras de suporte no ouvido externo do animal')\n",
        "\n",
        "\n",
        "# posicao=input('O animal está bem posicionado? Digite s ou n:')\n",
        "# if posicao == 's':\n",
        "#   certo= input('A cabeça do animal está reta? Digite s ou n:')\n",
        "#   if certo == 's':\n",
        "#     print('Prosseguir para limpeza do campo de trabalho')\n",
        "#   if certo == 'n':\n",
        "#     print('Ajuste a cabeça do animal até que fique reta.')\n",
        "# if posicao == 'n':\n",
        "#   print('Posicione corretamente o animal')\n",
        "\n",
        "# print('Limpeza do campo de trabalho')\n",
        "# print('Realizar tricotomia na cabeça')\n",
        "# print('Realizar incisão')\n",
        "# print('Reirar tecidos moles até expor o crânio')\n",
        "# print('Limpar o crânio com H2O2 10 volumes')\n",
        "\n",
        "limpeza=input('O crânio está completamente limpo? Digite s ou n:')\n",
        "if limpeza == 's':\n",
        "  print('Aplicar poliacrilato no perímetro externo para hemostasia.')\n",
        "if limpeza == 'n':\n",
        "  while limpeza == 'n':\n",
        "    print('Limpar até que o campo de trabalho esteja completamente limpo')\n",
        "    limpeza_2=input('O crânio está completamente limpo? Digite s ou n:')\n",
        "    if limpeza_2 == 's': break\n",
        "\n",
        "print('Escolha três pontos para fixar os parafusos.')\n",
        "print('Dê três voltas em cada parafuso')\n",
        "\n",
        "voltas=0\n",
        "while voltas <=3:\n",
        "  print(voltas)\n",
        "  voltas +=1\n",
        "  if voltas == 4: break\n",
        "\n",
        "\n",
        "\n"
      ]
    }
  ]
}